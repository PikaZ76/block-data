{
 "cells": [
  {
   "cell_type": "code",
   "execution_count": 2,
   "id": "93ece0de-c474-4914-a589-438eac8b0705",
   "metadata": {},
   "outputs": [
    {
     "data": {
      "text/html": [
       "        <script type=\"text/javascript\">\n",
       "        window.PlotlyConfig = {MathJaxConfig: 'local'};\n",
       "        if (window.MathJax && window.MathJax.Hub && window.MathJax.Hub.Config) {window.MathJax.Hub.Config({SVG: {font: \"STIX-Web\"}});}\n",
       "        if (typeof require !== 'undefined') {\n",
       "        require.undef(\"plotly\");\n",
       "        requirejs.config({\n",
       "            paths: {\n",
       "                'plotly': ['https://cdn.plot.ly/plotly-2.35.2.min']\n",
       "            }\n",
       "        });\n",
       "        require(['plotly'], function(Plotly) {\n",
       "            window._Plotly = Plotly;\n",
       "        });\n",
       "        }\n",
       "        </script>\n",
       "        "
      ]
     },
     "metadata": {},
     "output_type": "display_data"
    }
   ],
   "source": [
    "import pandas as pd\n",
    "import plotly.express as px\n",
    "import plotly.io as pio\n",
    "import plotly.offline as pyo\n",
    "\n",
    "pio.renderers.default = 'notebook'\n",
    "pyo.init_notebook_mode(connected=True)"
   ]
  },
  {
   "cell_type": "code",
   "execution_count": null,
   "id": "32371357-2b38-43bd-9c1e-96ee09229b26",
   "metadata": {},
   "outputs": [],
   "source": [
    "# 读取统计数据\n",
    "df = pd.read_csv('../temp/benchmark_stats.csv')\n",
    "\n",
    "# 过滤平均值的数据\n",
    "df = df[df['Epoch'] == 'average']\n"
   ]
  },
  {
   "cell_type": "code",
   "execution_count": 6,
   "id": "2b78b138-2f6f-4124-9286-de2e579f5796",
   "metadata": {},
   "outputs": [
    {
     "data": {
      "application/vnd.plotly.v1+json": {
       "config": {
        "displayModeBar": true,
        "plotlyServerURL": "https://plot.ly"
       },
       "data": [
        {
         "customdata": [
          [
           9.02,
           1,
           "brotli"
          ],
          [
           5.33,
           7,
           "brotli"
          ]
         ],
         "hovertemplate": "<b>%{hovertext}</b><br><br>Compression Time (ms)=%{x:.2f}<br>Decompression Time (ms)=%{y:.2f}<br>Compression Ratio (%)=%{customdata[0]:.2f}<br>BubbleLabel=%{text}<br>Level=%{customdata[1]}<extra></extra>",
         "hovertext": [
          "brotli-1",
          "brotli-7"
         ],
         "legendgroup": "brotli",
         "marker": {
          "color": "#636efa",
          "size": [
           9.02,
           5.33
          ],
          "sizemode": "area",
          "sizeref": 0.014180555555555556,
          "symbol": "circle"
         },
         "mode": "markers+text",
         "name": "brotli",
         "orientation": "v",
         "showlegend": true,
         "text": [
          "brotli-1<br>9.02",
          "brotli-7<br>5.33"
         ],
         "textfont": {
          "size": 12
         },
         "textposition": "top center",
         "type": "scatter",
         "x": [
          105.99,
          592.31
         ],
         "xaxis": "x",
         "y": [
          95.25,
          71.19
         ],
         "yaxis": "y"
        },
        {
         "customdata": [
          [
           8.89,
           1,
           "bzip2"
          ],
          [
           7.19,
           6,
           "bzip2"
          ],
          [
           7.08,
           9,
           "bzip2"
          ]
         ],
         "hovertemplate": "<b>%{hovertext}</b><br><br>Compression Time (ms)=%{x:.2f}<br>Decompression Time (ms)=%{y:.2f}<br>Compression Ratio (%)=%{customdata[0]:.2f}<br>BubbleLabel=%{text}<br>Level=%{customdata[1]}<extra></extra>",
         "hovertext": [
          "bzip2-1",
          "bzip2-6",
          "bzip2-9"
         ],
         "legendgroup": "bzip2",
         "marker": {
          "color": "#EF553B",
          "size": [
           8.89,
           7.19,
           7.08
          ],
          "sizemode": "area",
          "sizeref": 0.014180555555555556,
          "symbol": "circle"
         },
         "mode": "markers+text",
         "name": "bzip2",
         "orientation": "v",
         "showlegend": true,
         "text": [
          "bzip2-1<br>8.89",
          "bzip2-6<br>7.19",
          "bzip2-9<br>7.08"
         ],
         "textfont": {
          "size": 12
         },
         "textposition": "top center",
         "type": "scatter",
         "x": [
          2353.35,
          2319.26,
          2338.66
         ],
         "xaxis": "x",
         "y": [
          669.24,
          702.48,
          750.15
         ],
         "yaxis": "y"
        },
        {
         "customdata": [
          [
           13.21,
           0,
           "lz4"
          ],
          [
           10.37,
           1,
           "lz4"
          ],
          [
           10.29,
           2,
           "lz4"
          ],
          [
           10.25,
           3,
           "lz4"
          ],
          [
           10.22,
           4,
           "lz4"
          ],
          [
           10.18,
           5,
           "lz4"
          ],
          [
           10.17,
           9,
           "lz4"
          ]
         ],
         "hovertemplate": "<b>%{hovertext}</b><br><br>Compression Time (ms)=%{x:.2f}<br>Decompression Time (ms)=%{y:.2f}<br>Compression Ratio (%)=%{customdata[0]:.2f}<br>BubbleLabel=%{text}<br>Level=%{customdata[1]}<extra></extra>",
         "hovertext": [
          "lz4-0",
          "lz4-1",
          "lz4-2",
          "lz4-3",
          "lz4-4",
          "lz4-5",
          "lz4-9"
         ],
         "legendgroup": "lz4",
         "marker": {
          "color": "#00cc96",
          "size": [
           13.21,
           10.37,
           10.29,
           10.25,
           10.22,
           10.18,
           10.17
          ],
          "sizemode": "area",
          "sizeref": 0.014180555555555556,
          "symbol": "circle"
         },
         "mode": "markers+text",
         "name": "lz4",
         "orientation": "v",
         "showlegend": true,
         "text": [
          "lz4-0<br>13.21",
          "lz4-1<br>10.37",
          "lz4-2<br>10.29",
          "lz4-3<br>10.25",
          "lz4-4<br>10.22",
          "lz4-5<br>10.18",
          "lz4-9<br>10.17"
         ],
         "textfont": {
          "size": 12
         },
         "textposition": "top center",
         "type": "scatter",
         "x": [
          68.68,
          525.08,
          771.82,
          976.13,
          1333.52,
          2075.12,
          3136.18
         ],
         "xaxis": "x",
         "y": [
          37.12,
          35.19,
          34.32,
          35.09,
          36.07,
          43.96,
          33.62
         ],
         "yaxis": "y"
        },
        {
         "customdata": [
          [
           10.25,
           1,
           "gzip"
          ],
          [
           7.66,
           2,
           "gzip"
          ],
          [
           7.11,
           3,
           "gzip"
          ],
          [
           51.05,
           4,
           "gzip"
          ]
         ],
         "hovertemplate": "<b>%{hovertext}</b><br><br>Compression Time (ms)=%{x:.2f}<br>Decompression Time (ms)=%{y:.2f}<br>Compression Ratio (%)=%{customdata[0]:.2f}<br>BubbleLabel=%{text}<br>Level=%{customdata[1]}<extra></extra>",
         "hovertext": [
          "gzip-1",
          "gzip-2",
          "gzip-3",
          "gzip-4"
         ],
         "legendgroup": "gzip",
         "marker": {
          "color": "#ab63fa",
          "size": [
           10.25,
           7.66,
           7.11,
           51.05
          ],
          "sizemode": "area",
          "sizeref": 0.014180555555555556,
          "symbol": "circle"
         },
         "mode": "markers+text",
         "name": "gzip",
         "orientation": "v",
         "showlegend": true,
         "text": [
          "gzip-1<br>10.25",
          "gzip-2<br>7.66",
          "gzip-3<br>7.11",
          "gzip-4<br>51.05"
         ],
         "textfont": {
          "size": 12
         },
         "textposition": "top center",
         "type": "scatter",
         "x": [
          167.53,
          414.71,
          4032.16,
          198.12
         ],
         "xaxis": "x",
         "y": [
          112.17,
          90,
          80.67,
          449.13
         ],
         "yaxis": "y"
        },
        {
         "customdata": [
          [
           6.7,
           0,
           "xz"
          ]
         ],
         "hovertemplate": "<b>%{hovertext}</b><br><br>Compression Time (ms)=%{x:.2f}<br>Decompression Time (ms)=%{y:.2f}<br>Compression Ratio (%)=%{customdata[0]:.2f}<br>BubbleLabel=%{text}<br>Level=%{customdata[1]}<extra></extra>",
         "hovertext": [
          "xz-0"
         ],
         "legendgroup": "xz",
         "marker": {
          "color": "#FFA15A",
          "size": [
           6.7
          ],
          "sizemode": "area",
          "sizeref": 0.014180555555555556,
          "symbol": "circle"
         },
         "mode": "markers+text",
         "name": "xz",
         "orientation": "v",
         "showlegend": true,
         "text": [
          "xz-0<br>6.7"
         ],
         "textfont": {
          "size": 12
         },
         "textposition": "top center",
         "type": "scatter",
         "x": [
          1175.43
         ],
         "xaxis": "x",
         "y": [
          409.09
         ],
         "yaxis": "y"
        },
        {
         "customdata": [
          [
           16.69,
           0,
           "snappy"
          ]
         ],
         "hovertemplate": "<b>%{hovertext}</b><br><br>Compression Time (ms)=%{x:.2f}<br>Decompression Time (ms)=%{y:.2f}<br>Compression Ratio (%)=%{customdata[0]:.2f}<br>BubbleLabel=%{text}<br>Level=%{customdata[1]}<extra></extra>",
         "hovertext": [
          "snappy-0"
         ],
         "legendgroup": "snappy",
         "marker": {
          "color": "#19d3f3",
          "size": [
           16.69
          ],
          "sizemode": "area",
          "sizeref": 0.014180555555555556,
          "symbol": "circle"
         },
         "mode": "markers+text",
         "name": "snappy",
         "orientation": "v",
         "showlegend": true,
         "text": [
          "snappy-0<br>16.69"
         ],
         "textfont": {
          "size": 12
         },
         "textposition": "top center",
         "type": "scatter",
         "x": [
          32.16
         ],
         "xaxis": "x",
         "y": [
          25.7
         ],
         "yaxis": "y"
        },
        {
         "customdata": [
          [
           6.36,
           1,
           "zstd"
          ],
          [
           6.37,
           2,
           "zstd"
          ],
          [
           5.7,
           3,
           "zstd"
          ],
          [
           5.35,
           4,
           "zstd"
          ]
         ],
         "hovertemplate": "<b>%{hovertext}</b><br><br>Compression Time (ms)=%{x:.2f}<br>Decompression Time (ms)=%{y:.2f}<br>Compression Ratio (%)=%{customdata[0]:.2f}<br>BubbleLabel=%{text}<br>Level=%{customdata[1]}<extra></extra>",
         "hovertext": [
          "zstd-1",
          "zstd-2",
          "zstd-3",
          "zstd-4"
         ],
         "legendgroup": "zstd",
         "marker": {
          "color": "#FF6692",
          "size": [
           6.36,
           6.37,
           5.7,
           5.35
          ],
          "sizemode": "area",
          "sizeref": 0.014180555555555556,
          "symbol": "circle"
         },
         "mode": "markers+text",
         "name": "zstd",
         "orientation": "v",
         "showlegend": true,
         "text": [
          "zstd-1<br>6.36",
          "zstd-2<br>6.37",
          "zstd-3<br>5.7",
          "zstd-4<br>5.35"
         ],
         "textfont": {
          "size": 12
         },
         "textposition": "top center",
         "type": "scatter",
         "x": [
          80.95,
          111.71,
          198.65,
          756.61
         ],
         "xaxis": "x",
         "y": [
          36.98,
          36.07,
          32.4,
          30.68
         ],
         "yaxis": "y"
        }
       ],
       "layout": {
        "autosize": false,
        "font": {
         "size": 16
        },
        "height": 950,
        "hovermode": "closest",
        "legend": {
         "font": {
          "size": 14
         },
         "itemsizing": "constant",
         "title": {
          "text": "Algorithm"
         },
         "tracegroupgap": 0
        },
        "template": {
         "data": {
          "bar": [
           {
            "error_x": {
             "color": "#2a3f5f"
            },
            "error_y": {
             "color": "#2a3f5f"
            },
            "marker": {
             "line": {
              "color": "#E5ECF6",
              "width": 0.5
             },
             "pattern": {
              "fillmode": "overlay",
              "size": 10,
              "solidity": 0.2
             }
            },
            "type": "bar"
           }
          ],
          "barpolar": [
           {
            "marker": {
             "line": {
              "color": "#E5ECF6",
              "width": 0.5
             },
             "pattern": {
              "fillmode": "overlay",
              "size": 10,
              "solidity": 0.2
             }
            },
            "type": "barpolar"
           }
          ],
          "carpet": [
           {
            "aaxis": {
             "endlinecolor": "#2a3f5f",
             "gridcolor": "white",
             "linecolor": "white",
             "minorgridcolor": "white",
             "startlinecolor": "#2a3f5f"
            },
            "baxis": {
             "endlinecolor": "#2a3f5f",
             "gridcolor": "white",
             "linecolor": "white",
             "minorgridcolor": "white",
             "startlinecolor": "#2a3f5f"
            },
            "type": "carpet"
           }
          ],
          "choropleth": [
           {
            "colorbar": {
             "outlinewidth": 0,
             "ticks": ""
            },
            "type": "choropleth"
           }
          ],
          "contour": [
           {
            "colorbar": {
             "outlinewidth": 0,
             "ticks": ""
            },
            "colorscale": [
             [
              0,
              "#0d0887"
             ],
             [
              0.1111111111111111,
              "#46039f"
             ],
             [
              0.2222222222222222,
              "#7201a8"
             ],
             [
              0.3333333333333333,
              "#9c179e"
             ],
             [
              0.4444444444444444,
              "#bd3786"
             ],
             [
              0.5555555555555556,
              "#d8576b"
             ],
             [
              0.6666666666666666,
              "#ed7953"
             ],
             [
              0.7777777777777778,
              "#fb9f3a"
             ],
             [
              0.8888888888888888,
              "#fdca26"
             ],
             [
              1,
              "#f0f921"
             ]
            ],
            "type": "contour"
           }
          ],
          "contourcarpet": [
           {
            "colorbar": {
             "outlinewidth": 0,
             "ticks": ""
            },
            "type": "contourcarpet"
           }
          ],
          "heatmap": [
           {
            "colorbar": {
             "outlinewidth": 0,
             "ticks": ""
            },
            "colorscale": [
             [
              0,
              "#0d0887"
             ],
             [
              0.1111111111111111,
              "#46039f"
             ],
             [
              0.2222222222222222,
              "#7201a8"
             ],
             [
              0.3333333333333333,
              "#9c179e"
             ],
             [
              0.4444444444444444,
              "#bd3786"
             ],
             [
              0.5555555555555556,
              "#d8576b"
             ],
             [
              0.6666666666666666,
              "#ed7953"
             ],
             [
              0.7777777777777778,
              "#fb9f3a"
             ],
             [
              0.8888888888888888,
              "#fdca26"
             ],
             [
              1,
              "#f0f921"
             ]
            ],
            "type": "heatmap"
           }
          ],
          "heatmapgl": [
           {
            "colorbar": {
             "outlinewidth": 0,
             "ticks": ""
            },
            "colorscale": [
             [
              0,
              "#0d0887"
             ],
             [
              0.1111111111111111,
              "#46039f"
             ],
             [
              0.2222222222222222,
              "#7201a8"
             ],
             [
              0.3333333333333333,
              "#9c179e"
             ],
             [
              0.4444444444444444,
              "#bd3786"
             ],
             [
              0.5555555555555556,
              "#d8576b"
             ],
             [
              0.6666666666666666,
              "#ed7953"
             ],
             [
              0.7777777777777778,
              "#fb9f3a"
             ],
             [
              0.8888888888888888,
              "#fdca26"
             ],
             [
              1,
              "#f0f921"
             ]
            ],
            "type": "heatmapgl"
           }
          ],
          "histogram": [
           {
            "marker": {
             "pattern": {
              "fillmode": "overlay",
              "size": 10,
              "solidity": 0.2
             }
            },
            "type": "histogram"
           }
          ],
          "histogram2d": [
           {
            "colorbar": {
             "outlinewidth": 0,
             "ticks": ""
            },
            "colorscale": [
             [
              0,
              "#0d0887"
             ],
             [
              0.1111111111111111,
              "#46039f"
             ],
             [
              0.2222222222222222,
              "#7201a8"
             ],
             [
              0.3333333333333333,
              "#9c179e"
             ],
             [
              0.4444444444444444,
              "#bd3786"
             ],
             [
              0.5555555555555556,
              "#d8576b"
             ],
             [
              0.6666666666666666,
              "#ed7953"
             ],
             [
              0.7777777777777778,
              "#fb9f3a"
             ],
             [
              0.8888888888888888,
              "#fdca26"
             ],
             [
              1,
              "#f0f921"
             ]
            ],
            "type": "histogram2d"
           }
          ],
          "histogram2dcontour": [
           {
            "colorbar": {
             "outlinewidth": 0,
             "ticks": ""
            },
            "colorscale": [
             [
              0,
              "#0d0887"
             ],
             [
              0.1111111111111111,
              "#46039f"
             ],
             [
              0.2222222222222222,
              "#7201a8"
             ],
             [
              0.3333333333333333,
              "#9c179e"
             ],
             [
              0.4444444444444444,
              "#bd3786"
             ],
             [
              0.5555555555555556,
              "#d8576b"
             ],
             [
              0.6666666666666666,
              "#ed7953"
             ],
             [
              0.7777777777777778,
              "#fb9f3a"
             ],
             [
              0.8888888888888888,
              "#fdca26"
             ],
             [
              1,
              "#f0f921"
             ]
            ],
            "type": "histogram2dcontour"
           }
          ],
          "mesh3d": [
           {
            "colorbar": {
             "outlinewidth": 0,
             "ticks": ""
            },
            "type": "mesh3d"
           }
          ],
          "parcoords": [
           {
            "line": {
             "colorbar": {
              "outlinewidth": 0,
              "ticks": ""
             }
            },
            "type": "parcoords"
           }
          ],
          "pie": [
           {
            "automargin": true,
            "type": "pie"
           }
          ],
          "scatter": [
           {
            "fillpattern": {
             "fillmode": "overlay",
             "size": 10,
             "solidity": 0.2
            },
            "type": "scatter"
           }
          ],
          "scatter3d": [
           {
            "line": {
             "colorbar": {
              "outlinewidth": 0,
              "ticks": ""
             }
            },
            "marker": {
             "colorbar": {
              "outlinewidth": 0,
              "ticks": ""
             }
            },
            "type": "scatter3d"
           }
          ],
          "scattercarpet": [
           {
            "marker": {
             "colorbar": {
              "outlinewidth": 0,
              "ticks": ""
             }
            },
            "type": "scattercarpet"
           }
          ],
          "scattergeo": [
           {
            "marker": {
             "colorbar": {
              "outlinewidth": 0,
              "ticks": ""
             }
            },
            "type": "scattergeo"
           }
          ],
          "scattergl": [
           {
            "marker": {
             "colorbar": {
              "outlinewidth": 0,
              "ticks": ""
             }
            },
            "type": "scattergl"
           }
          ],
          "scattermapbox": [
           {
            "marker": {
             "colorbar": {
              "outlinewidth": 0,
              "ticks": ""
             }
            },
            "type": "scattermapbox"
           }
          ],
          "scatterpolar": [
           {
            "marker": {
             "colorbar": {
              "outlinewidth": 0,
              "ticks": ""
             }
            },
            "type": "scatterpolar"
           }
          ],
          "scatterpolargl": [
           {
            "marker": {
             "colorbar": {
              "outlinewidth": 0,
              "ticks": ""
             }
            },
            "type": "scatterpolargl"
           }
          ],
          "scatterternary": [
           {
            "marker": {
             "colorbar": {
              "outlinewidth": 0,
              "ticks": ""
             }
            },
            "type": "scatterternary"
           }
          ],
          "surface": [
           {
            "colorbar": {
             "outlinewidth": 0,
             "ticks": ""
            },
            "colorscale": [
             [
              0,
              "#0d0887"
             ],
             [
              0.1111111111111111,
              "#46039f"
             ],
             [
              0.2222222222222222,
              "#7201a8"
             ],
             [
              0.3333333333333333,
              "#9c179e"
             ],
             [
              0.4444444444444444,
              "#bd3786"
             ],
             [
              0.5555555555555556,
              "#d8576b"
             ],
             [
              0.6666666666666666,
              "#ed7953"
             ],
             [
              0.7777777777777778,
              "#fb9f3a"
             ],
             [
              0.8888888888888888,
              "#fdca26"
             ],
             [
              1,
              "#f0f921"
             ]
            ],
            "type": "surface"
           }
          ],
          "table": [
           {
            "cells": {
             "fill": {
              "color": "#EBF0F8"
             },
             "line": {
              "color": "white"
             }
            },
            "header": {
             "fill": {
              "color": "#C8D4E3"
             },
             "line": {
              "color": "white"
             }
            },
            "type": "table"
           }
          ]
         },
         "layout": {
          "annotationdefaults": {
           "arrowcolor": "#2a3f5f",
           "arrowhead": 0,
           "arrowwidth": 1
          },
          "autotypenumbers": "strict",
          "coloraxis": {
           "colorbar": {
            "outlinewidth": 0,
            "ticks": ""
           }
          },
          "colorscale": {
           "diverging": [
            [
             0,
             "#8e0152"
            ],
            [
             0.1,
             "#c51b7d"
            ],
            [
             0.2,
             "#de77ae"
            ],
            [
             0.3,
             "#f1b6da"
            ],
            [
             0.4,
             "#fde0ef"
            ],
            [
             0.5,
             "#f7f7f7"
            ],
            [
             0.6,
             "#e6f5d0"
            ],
            [
             0.7,
             "#b8e186"
            ],
            [
             0.8,
             "#7fbc41"
            ],
            [
             0.9,
             "#4d9221"
            ],
            [
             1,
             "#276419"
            ]
           ],
           "sequential": [
            [
             0,
             "#0d0887"
            ],
            [
             0.1111111111111111,
             "#46039f"
            ],
            [
             0.2222222222222222,
             "#7201a8"
            ],
            [
             0.3333333333333333,
             "#9c179e"
            ],
            [
             0.4444444444444444,
             "#bd3786"
            ],
            [
             0.5555555555555556,
             "#d8576b"
            ],
            [
             0.6666666666666666,
             "#ed7953"
            ],
            [
             0.7777777777777778,
             "#fb9f3a"
            ],
            [
             0.8888888888888888,
             "#fdca26"
            ],
            [
             1,
             "#f0f921"
            ]
           ],
           "sequentialminus": [
            [
             0,
             "#0d0887"
            ],
            [
             0.1111111111111111,
             "#46039f"
            ],
            [
             0.2222222222222222,
             "#7201a8"
            ],
            [
             0.3333333333333333,
             "#9c179e"
            ],
            [
             0.4444444444444444,
             "#bd3786"
            ],
            [
             0.5555555555555556,
             "#d8576b"
            ],
            [
             0.6666666666666666,
             "#ed7953"
            ],
            [
             0.7777777777777778,
             "#fb9f3a"
            ],
            [
             0.8888888888888888,
             "#fdca26"
            ],
            [
             1,
             "#f0f921"
            ]
           ]
          },
          "colorway": [
           "#636efa",
           "#EF553B",
           "#00cc96",
           "#ab63fa",
           "#FFA15A",
           "#19d3f3",
           "#FF6692",
           "#B6E880",
           "#FF97FF",
           "#FECB52"
          ],
          "font": {
           "color": "#2a3f5f"
          },
          "geo": {
           "bgcolor": "white",
           "lakecolor": "white",
           "landcolor": "#E5ECF6",
           "showlakes": true,
           "showland": true,
           "subunitcolor": "white"
          },
          "hoverlabel": {
           "align": "left"
          },
          "hovermode": "closest",
          "mapbox": {
           "style": "light"
          },
          "paper_bgcolor": "white",
          "plot_bgcolor": "#E5ECF6",
          "polar": {
           "angularaxis": {
            "gridcolor": "white",
            "linecolor": "white",
            "ticks": ""
           },
           "bgcolor": "#E5ECF6",
           "radialaxis": {
            "gridcolor": "white",
            "linecolor": "white",
            "ticks": ""
           }
          },
          "scene": {
           "xaxis": {
            "backgroundcolor": "#E5ECF6",
            "gridcolor": "white",
            "gridwidth": 2,
            "linecolor": "white",
            "showbackground": true,
            "ticks": "",
            "zerolinecolor": "white"
           },
           "yaxis": {
            "backgroundcolor": "#E5ECF6",
            "gridcolor": "white",
            "gridwidth": 2,
            "linecolor": "white",
            "showbackground": true,
            "ticks": "",
            "zerolinecolor": "white"
           },
           "zaxis": {
            "backgroundcolor": "#E5ECF6",
            "gridcolor": "white",
            "gridwidth": 2,
            "linecolor": "white",
            "showbackground": true,
            "ticks": "",
            "zerolinecolor": "white"
           }
          },
          "shapedefaults": {
           "line": {
            "color": "#2a3f5f"
           }
          },
          "ternary": {
           "aaxis": {
            "gridcolor": "white",
            "linecolor": "white",
            "ticks": ""
           },
           "baxis": {
            "gridcolor": "white",
            "linecolor": "white",
            "ticks": ""
           },
           "bgcolor": "#E5ECF6",
           "caxis": {
            "gridcolor": "white",
            "linecolor": "white",
            "ticks": ""
           }
          },
          "title": {
           "x": 0.05
          },
          "xaxis": {
           "automargin": true,
           "gridcolor": "white",
           "linecolor": "white",
           "ticks": "",
           "title": {
            "standoff": 15
           },
           "zerolinecolor": "white",
           "zerolinewidth": 2
          },
          "yaxis": {
           "automargin": true,
           "gridcolor": "white",
           "linecolor": "white",
           "ticks": "",
           "title": {
            "standoff": 15
           },
           "zerolinecolor": "white",
           "zerolinewidth": 2
          }
         }
        },
        "title": {
         "text": "Compression and Decompression Time vs Compression Ratio"
        },
        "width": 1800,
        "xaxis": {
         "anchor": "y",
         "autorange": true,
         "domain": [
          0,
          1
         ],
         "range": [
          -276.07077887907474,
          4313.031158062112
         ],
         "title": {
          "text": "Compression Time (ms)"
         },
         "type": "linear"
        },
        "yaxis": {
         "anchor": "x",
         "autorange": true,
         "domain": [
          0,
          1
         ],
         "range": [
          -47.63984235992568,
          812.9204435007597
         ],
         "title": {
          "text": "Decompression Time (ms)"
         },
         "type": "linear"
        }
       }
      },
      "image/png": "[encoded data removed]",
      "text/html": [
       "<div>                            <div id=\"08c6cfa0-7aea-4b7d-ab23-7e1cd415df38\" class=\"plotly-graph-div\" style=\"height:950px; width:1800px;\"></div>            <script type=\"text/javascript\">                require([\"plotly\"], function(Plotly) {                    window.PLOTLYENV=window.PLOTLYENV || {};                                    if (document.getElementById(\"08c6cfa0-7aea-4b7d-ab23-7e1cd415df38\")) {                    Plotly.newPlot(                        \"08c6cfa0-7aea-4b7d-ab23-7e1cd415df38\",                        [{\"customdata\":[[9.02,1,\"brotli\"],[5.33,7,\"brotli\"]],\"hovertemplate\":\"\\u003cb\\u003e%{hovertext}\\u003c\\u002fb\\u003e\\u003cbr\\u003e\\u003cbr\\u003eCompression Time (ms)=%{x:.2f}\\u003cbr\\u003eDecompression Time (ms)=%{y:.2f}\\u003cbr\\u003eCompression Ratio (%)=%{customdata[0]:.2f}\\u003cbr\\u003eBubbleLabel=%{text}\\u003cbr\\u003eLevel=%{customdata[1]}\\u003cextra\\u003e\\u003c\\u002fextra\\u003e\",\"hovertext\":[\"brotli-1\",\"brotli-7\"],\"legendgroup\":\"brotli\",\"marker\":{\"color\":\"#636efa\",\"size\":[9.02,5.33],\"sizemode\":\"area\",\"sizeref\":0.014180555555555556,\"symbol\":\"circle\"},\"mode\":\"markers+text\",\"name\":\"brotli\",\"orientation\":\"v\",\"showlegend\":true,\"text\":[\"brotli-1\\u003cbr\\u003e9.02\",\"brotli-7\\u003cbr\\u003e5.33\"],\"x\":[105.99,592.31],\"xaxis\":\"x\",\"y\":[95.25,71.19],\"yaxis\":\"y\",\"type\":\"scatter\",\"textfont\":{\"size\":12},\"textposition\":\"top center\"},{\"customdata\":[[8.89,1,\"bzip2\"],[7.19,6,\"bzip2\"],[7.08,9,\"bzip2\"]],\"hovertemplate\":\"\\u003cb\\u003e%{hovertext}\\u003c\\u002fb\\u003e\\u003cbr\\u003e\\u003cbr\\u003eCompression Time (ms)=%{x:.2f}\\u003cbr\\u003eDecompression Time (ms)=%{y:.2f}\\u003cbr\\u003eCompression Ratio (%)=%{customdata[0]:.2f}\\u003cbr\\u003eBubbleLabel=%{text}\\u003cbr\\u003eLevel=%{customdata[1]}\\u003cextra\\u003e\\u003c\\u002fextra\\u003e\",\"hovertext\":[\"bzip2-1\",\"bzip2-6\",\"bzip2-9\"],\"legendgroup\":\"bzip2\",\"marker\":{\"color\":\"#EF553B\",\"size\":[8.89,7.19,7.08],\"sizemode\":\"area\",\"sizeref\":0.014180555555555556,\"symbol\":\"circle\"},\"mode\":\"markers+text\",\"name\":\"bzip2\",\"orientation\":\"v\",\"showlegend\":true,\"text\":[\"bzip2-1\\u003cbr\\u003e8.89\",\"bzip2-6\\u003cbr\\u003e7.19\",\"bzip2-9\\u003cbr\\u003e7.08\"],\"x\":[2353.35,2319.26,2338.66],\"xaxis\":\"x\",\"y\":[669.24,702.48,750.15],\"yaxis\":\"y\",\"type\":\"scatter\",\"textfont\":{\"size\":12},\"textposition\":\"top center\"},{\"customdata\":[[13.21,0,\"lz4\"],[10.37,1,\"lz4\"],[10.29,2,\"lz4\"],[10.25,3,\"lz4\"],[10.22,4,\"lz4\"],[10.18,5,\"lz4\"],[10.17,9,\"lz4\"]],\"hovertemplate\":\"\\u003cb\\u003e%{hovertext}\\u003c\\u002fb\\u003e\\u003cbr\\u003e\\u003cbr\\u003eCompression Time (ms)=%{x:.2f}\\u003cbr\\u003eDecompression Time (ms)=%{y:.2f}\\u003cbr\\u003eCompression Ratio (%)=%{customdata[0]:.2f}\\u003cbr\\u003eBubbleLabel=%{text}\\u003cbr\\u003eLevel=%{customdata[1]}\\u003cextra\\u003e\\u003c\\u002fextra\\u003e\",\"hovertext\":[\"lz4-0\",\"lz4-1\",\"lz4-2\",\"lz4-3\",\"lz4-4\",\"lz4-5\",\"lz4-9\"],\"legendgroup\":\"lz4\",\"marker\":{\"color\":\"#00cc96\",\"size\":[13.21,10.37,10.29,10.25,10.22,10.18,10.17],\"sizemode\":\"area\",\"sizeref\":0.014180555555555556,\"symbol\":\"circle\"},\"mode\":\"markers+text\",\"name\":\"lz4\",\"orientation\":\"v\",\"showlegend\":true,\"text\":[\"lz4-0\\u003cbr\\u003e13.21\",\"lz4-1\\u003cbr\\u003e10.37\",\"lz4-2\\u003cbr\\u003e10.29\",\"lz4-3\\u003cbr\\u003e10.25\",\"lz4-4\\u003cbr\\u003e10.22\",\"lz4-5\\u003cbr\\u003e10.18\",\"lz4-9\\u003cbr\\u003e10.17\"],\"x\":[68.68,525.08,771.82,976.13,1333.52,2075.12,3136.18],\"xaxis\":\"x\",\"y\":[37.12,35.19,34.32,35.09,36.07,43.96,33.62],\"yaxis\":\"y\",\"type\":\"scatter\",\"textfont\":{\"size\":12},\"textposition\":\"top center\"},{\"customdata\":[[10.25,1,\"gzip\"],[7.66,2,\"gzip\"],[7.11,3,\"gzip\"],[51.05,4,\"gzip\"]],\"hovertemplate\":\"\\u003cb\\u003e%{hovertext}\\u003c\\u002fb\\u003e\\u003cbr\\u003e\\u003cbr\\u003eCompression Time (ms)=%{x:.2f}\\u003cbr\\u003eDecompression Time (ms)=%{y:.2f}\\u003cbr\\u003eCompression Ratio (%)=%{customdata[0]:.2f}\\u003cbr\\u003eBubbleLabel=%{text}\\u003cbr\\u003eLevel=%{customdata[1]}\\u003cextra\\u003e\\u003c\\u002fextra\\u003e\",\"hovertext\":[\"gzip-1\",\"gzip-2\",\"gzip-3\",\"gzip-4\"],\"legendgroup\":\"gzip\",\"marker\":{\"color\":\"#ab63fa\",\"size\":[10.25,7.66,7.11,51.05],\"sizemode\":\"area\",\"sizeref\":0.014180555555555556,\"symbol\":\"circle\"},\"mode\":\"markers+text\",\"name\":\"gzip\",\"orientation\":\"v\",\"showlegend\":true,\"text\":[\"gzip-1\\u003cbr\\u003e10.25\",\"gzip-2\\u003cbr\\u003e7.66\",\"gzip-3\\u003cbr\\u003e7.11\",\"gzip-4\\u003cbr\\u003e51.05\"],\"x\":[167.53,414.71,4032.16,198.12],\"xaxis\":\"x\",\"y\":[112.17,90.0,80.67,449.13],\"yaxis\":\"y\",\"type\":\"scatter\",\"textfont\":{\"size\":12},\"textposition\":\"top center\"},{\"customdata\":[[6.7,0,\"xz\"]],\"hovertemplate\":\"\\u003cb\\u003e%{hovertext}\\u003c\\u002fb\\u003e\\u003cbr\\u003e\\u003cbr\\u003eCompression Time (ms)=%{x:.2f}\\u003cbr\\u003eDecompression Time (ms)=%{y:.2f}\\u003cbr\\u003eCompression Ratio (%)=%{customdata[0]:.2f}\\u003cbr\\u003eBubbleLabel=%{text}\\u003cbr\\u003eLevel=%{customdata[1]}\\u003cextra\\u003e\\u003c\\u002fextra\\u003e\",\"hovertext\":[\"xz-0\"],\"legendgroup\":\"xz\",\"marker\":{\"color\":\"#FFA15A\",\"size\":[6.7],\"sizemode\":\"area\",\"sizeref\":0.014180555555555556,\"symbol\":\"circle\"},\"mode\":\"markers+text\",\"name\":\"xz\",\"orientation\":\"v\",\"showlegend\":true,\"text\":[\"xz-0\\u003cbr\\u003e6.7\"],\"x\":[1175.43],\"xaxis\":\"x\",\"y\":[409.09],\"yaxis\":\"y\",\"type\":\"scatter\",\"textfont\":{\"size\":12},\"textposition\":\"top center\"},{\"customdata\":[[16.69,0,\"snappy\"]],\"hovertemplate\":\"\\u003cb\\u003e%{hovertext}\\u003c\\u002fb\\u003e\\u003cbr\\u003e\\u003cbr\\u003eCompression Time (ms)=%{x:.2f}\\u003cbr\\u003eDecompression Time (ms)=%{y:.2f}\\u003cbr\\u003eCompression Ratio (%)=%{customdata[0]:.2f}\\u003cbr\\u003eBubbleLabel=%{text}\\u003cbr\\u003eLevel=%{customdata[1]}\\u003cextra\\u003e\\u003c\\u002fextra\\u003e\",\"hovertext\":[\"snappy-0\"],\"legendgroup\":\"snappy\",\"marker\":{\"color\":\"#19d3f3\",\"size\":[16.69],\"sizemode\":\"area\",\"sizeref\":0.014180555555555556,\"symbol\":\"circle\"},\"mode\":\"markers+text\",\"name\":\"snappy\",\"orientation\":\"v\",\"showlegend\":true,\"text\":[\"snappy-0\\u003cbr\\u003e16.69\"],\"x\":[32.16],\"xaxis\":\"x\",\"y\":[25.7],\"yaxis\":\"y\",\"type\":\"scatter\",\"textfont\":{\"size\":12},\"textposition\":\"top center\"},{\"customdata\":[[6.36,1,\"zstd\"],[6.37,2,\"zstd\"],[5.7,3,\"zstd\"],[5.35,4,\"zstd\"]],\"hovertemplate\":\"\\u003cb\\u003e%{hovertext}\\u003c\\u002fb\\u003e\\u003cbr\\u003e\\u003cbr\\u003eCompression Time (ms)=%{x:.2f}\\u003cbr\\u003eDecompression Time (ms)=%{y:.2f}\\u003cbr\\u003eCompression Ratio (%)=%{customdata[0]:.2f}\\u003cbr\\u003eBubbleLabel=%{text}\\u003cbr\\u003eLevel=%{customdata[1]}\\u003cextra\\u003e\\u003c\\u002fextra\\u003e\",\"hovertext\":[\"zstd-1\",\"zstd-2\",\"zstd-3\",\"zstd-4\"],\"legendgroup\":\"zstd\",\"marker\":{\"color\":\"#FF6692\",\"size\":[6.36,6.37,5.7,5.35],\"sizemode\":\"area\",\"sizeref\":0.014180555555555556,\"symbol\":\"circle\"},\"mode\":\"markers+text\",\"name\":\"zstd\",\"orientation\":\"v\",\"showlegend\":true,\"text\":[\"zstd-1\\u003cbr\\u003e6.36\",\"zstd-2\\u003cbr\\u003e6.37\",\"zstd-3\\u003cbr\\u003e5.7\",\"zstd-4\\u003cbr\\u003e5.35\"],\"x\":[80.95,111.71,198.65,756.61],\"xaxis\":\"x\",\"y\":[36.98,36.07,32.4,30.68],\"yaxis\":\"y\",\"type\":\"scatter\",\"textfont\":{\"size\":12},\"textposition\":\"top center\"}],                        {\"template\":{\"data\":{\"histogram2dcontour\":[{\"type\":\"histogram2dcontour\",\"colorbar\":{\"outlinewidth\":0,\"ticks\":\"\"},\"colorscale\":[[0.0,\"#0d0887\"],[0.1111111111111111,\"#46039f\"],[0.2222222222222222,\"#7201a8\"],[0.3333333333333333,\"#9c179e\"],[0.4444444444444444,\"#bd3786\"],[0.5555555555555556,\"#d8576b\"],[0.6666666666666666,\"#ed7953\"],[0.7777777777777778,\"#fb9f3a\"],[0.8888888888888888,\"#fdca26\"],[1.0,\"#f0f921\"]]}],\"choropleth\":[{\"type\":\"choropleth\",\"colorbar\":{\"outlinewidth\":0,\"ticks\":\"\"}}],\"histogram2d\":[{\"type\":\"histogram2d\",\"colorbar\":{\"outlinewidth\":0,\"ticks\":\"\"},\"colorscale\":[[0.0,\"#0d0887\"],[0.1111111111111111,\"#46039f\"],[0.2222222222222222,\"#7201a8\"],[0.3333333333333333,\"#9c179e\"],[0.4444444444444444,\"#bd3786\"],[0.5555555555555556,\"#d8576b\"],[0.6666666666666666,\"#ed7953\"],[0.7777777777777778,\"#fb9f3a\"],[0.8888888888888888,\"#fdca26\"],[1.0,\"#f0f921\"]]}],\"heatmap\":[{\"type\":\"heatmap\",\"colorbar\":{\"outlinewidth\":0,\"ticks\":\"\"},\"colorscale\":[[0.0,\"#0d0887\"],[0.1111111111111111,\"#46039f\"],[0.2222222222222222,\"#7201a8\"],[0.3333333333333333,\"#9c179e\"],[0.4444444444444444,\"#bd3786\"],[0.5555555555555556,\"#d8576b\"],[0.6666666666666666,\"#ed7953\"],[0.7777777777777778,\"#fb9f3a\"],[0.8888888888888888,\"#fdca26\"],[1.0,\"#f0f921\"]]}],\"heatmapgl\":[{\"type\":\"heatmapgl\",\"colorbar\":{\"outlinewidth\":0,\"ticks\":\"\"},\"colorscale\":[[0.0,\"#0d0887\"],[0.1111111111111111,\"#46039f\"],[0.2222222222222222,\"#7201a8\"],[0.3333333333333333,\"#9c179e\"],[0.4444444444444444,\"#bd3786\"],[0.5555555555555556,\"#d8576b\"],[0.6666666666666666,\"#ed7953\"],[0.7777777777777778,\"#fb9f3a\"],[0.8888888888888888,\"#fdca26\"],[1.0,\"#f0f921\"]]}],\"contourcarpet\":[{\"type\":\"contourcarpet\",\"colorbar\":{\"outlinewidth\":0,\"ticks\":\"\"}}],\"contour\":[{\"type\":\"contour\",\"colorbar\":{\"outlinewidth\":0,\"ticks\":\"\"},\"colorscale\":[[0.0,\"#0d0887\"],[0.1111111111111111,\"#46039f\"],[0.2222222222222222,\"#7201a8\"],[0.3333333333333333,\"#9c179e\"],[0.4444444444444444,\"#bd3786\"],[0.5555555555555556,\"#d8576b\"],[0.6666666666666666,\"#ed7953\"],[0.7777777777777778,\"#fb9f3a\"],[0.8888888888888888,\"#fdca26\"],[1.0,\"#f0f921\"]]}],\"surface\":[{\"type\":\"surface\",\"colorbar\":{\"outlinewidth\":0,\"ticks\":\"\"},\"colorscale\":[[0.0,\"#0d0887\"],[0.1111111111111111,\"#46039f\"],[0.2222222222222222,\"#7201a8\"],[0.3333333333333333,\"#9c179e\"],[0.4444444444444444,\"#bd3786\"],[0.5555555555555556,\"#d8576b\"],[0.6666666666666666,\"#ed7953\"],[0.7777777777777778,\"#fb9f3a\"],[0.8888888888888888,\"#fdca26\"],[1.0,\"#f0f921\"]]}],\"mesh3d\":[{\"type\":\"mesh3d\",\"colorbar\":{\"outlinewidth\":0,\"ticks\":\"\"}}],\"scatter\":[{\"fillpattern\":{\"fillmode\":\"overlay\",\"size\":10,\"solidity\":0.2},\"type\":\"scatter\"}],\"parcoords\":[{\"type\":\"parcoords\",\"line\":{\"colorbar\":{\"outlinewidth\":0,\"ticks\":\"\"}}}],\"scatterpolargl\":[{\"type\":\"scatterpolargl\",\"marker\":{\"colorbar\":{\"outlinewidth\":0,\"ticks\":\"\"}}}],\"bar\":[{\"error_x\":{\"color\":\"#2a3f5f\"},\"error_y\":{\"color\":\"#2a3f5f\"},\"marker\":{\"line\":{\"color\":\"#E5ECF6\",\"width\":0.5},\"pattern\":{\"fillmode\":\"overlay\",\"size\":10,\"solidity\":0.2}},\"type\":\"bar\"}],\"scattergeo\":[{\"type\":\"scattergeo\",\"marker\":{\"colorbar\":{\"outlinewidth\":0,\"ticks\":\"\"}}}],\"scatterpolar\":[{\"type\":\"scatterpolar\",\"marker\":{\"colorbar\":{\"outlinewidth\":0,\"ticks\":\"\"}}}],\"histogram\":[{\"marker\":{\"pattern\":{\"fillmode\":\"overlay\",\"size\":10,\"solidity\":0.2}},\"type\":\"histogram\"}],\"scattergl\":[{\"type\":\"scattergl\",\"marker\":{\"colorbar\":{\"outlinewidth\":0,\"ticks\":\"\"}}}],\"scatter3d\":[{\"type\":\"scatter3d\",\"line\":{\"colorbar\":{\"outlinewidth\":0,\"ticks\":\"\"}},\"marker\":{\"colorbar\":{\"outlinewidth\":0,\"ticks\":\"\"}}}],\"scattermapbox\":[{\"type\":\"scattermapbox\",\"marker\":{\"colorbar\":{\"outlinewidth\":0,\"ticks\":\"\"}}}],\"scatterternary\":[{\"type\":\"scatterternary\",\"marker\":{\"colorbar\":{\"outlinewidth\":0,\"ticks\":\"\"}}}],\"scattercarpet\":[{\"type\":\"scattercarpet\",\"marker\":{\"colorbar\":{\"outlinewidth\":0,\"ticks\":\"\"}}}],\"carpet\":[{\"aaxis\":{\"endlinecolor\":\"#2a3f5f\",\"gridcolor\":\"white\",\"linecolor\":\"white\",\"minorgridcolor\":\"white\",\"startlinecolor\":\"#2a3f5f\"},\"baxis\":{\"endlinecolor\":\"#2a3f5f\",\"gridcolor\":\"white\",\"linecolor\":\"white\",\"minorgridcolor\":\"white\",\"startlinecolor\":\"#2a3f5f\"},\"type\":\"carpet\"}],\"table\":[{\"cells\":{\"fill\":{\"color\":\"#EBF0F8\"},\"line\":{\"color\":\"white\"}},\"header\":{\"fill\":{\"color\":\"#C8D4E3\"},\"line\":{\"color\":\"white\"}},\"type\":\"table\"}],\"barpolar\":[{\"marker\":{\"line\":{\"color\":\"#E5ECF6\",\"width\":0.5},\"pattern\":{\"fillmode\":\"overlay\",\"size\":10,\"solidity\":0.2}},\"type\":\"barpolar\"}],\"pie\":[{\"automargin\":true,\"type\":\"pie\"}]},\"layout\":{\"autotypenumbers\":\"strict\",\"colorway\":[\"#636efa\",\"#EF553B\",\"#00cc96\",\"#ab63fa\",\"#FFA15A\",\"#19d3f3\",\"#FF6692\",\"#B6E880\",\"#FF97FF\",\"#FECB52\"],\"font\":{\"color\":\"#2a3f5f\"},\"hovermode\":\"closest\",\"hoverlabel\":{\"align\":\"left\"},\"paper_bgcolor\":\"white\",\"plot_bgcolor\":\"#E5ECF6\",\"polar\":{\"bgcolor\":\"#E5ECF6\",\"angularaxis\":{\"gridcolor\":\"white\",\"linecolor\":\"white\",\"ticks\":\"\"},\"radialaxis\":{\"gridcolor\":\"white\",\"linecolor\":\"white\",\"ticks\":\"\"}},\"ternary\":{\"bgcolor\":\"#E5ECF6\",\"aaxis\":{\"gridcolor\":\"white\",\"linecolor\":\"white\",\"ticks\":\"\"},\"baxis\":{\"gridcolor\":\"white\",\"linecolor\":\"white\",\"ticks\":\"\"},\"caxis\":{\"gridcolor\":\"white\",\"linecolor\":\"white\",\"ticks\":\"\"}},\"coloraxis\":{\"colorbar\":{\"outlinewidth\":0,\"ticks\":\"\"}},\"colorscale\":{\"sequential\":[[0.0,\"#0d0887\"],[0.1111111111111111,\"#46039f\"],[0.2222222222222222,\"#7201a8\"],[0.3333333333333333,\"#9c179e\"],[0.4444444444444444,\"#bd3786\"],[0.5555555555555556,\"#d8576b\"],[0.6666666666666666,\"#ed7953\"],[0.7777777777777778,\"#fb9f3a\"],[0.8888888888888888,\"#fdca26\"],[1.0,\"#f0f921\"]],\"sequentialminus\":[[0.0,\"#0d0887\"],[0.1111111111111111,\"#46039f\"],[0.2222222222222222,\"#7201a8\"],[0.3333333333333333,\"#9c179e\"],[0.4444444444444444,\"#bd3786\"],[0.5555555555555556,\"#d8576b\"],[0.6666666666666666,\"#ed7953\"],[0.7777777777777778,\"#fb9f3a\"],[0.8888888888888888,\"#fdca26\"],[1.0,\"#f0f921\"]],\"diverging\":[[0,\"#8e0152\"],[0.1,\"#c51b7d\"],[0.2,\"#de77ae\"],[0.3,\"#f1b6da\"],[0.4,\"#fde0ef\"],[0.5,\"#f7f7f7\"],[0.6,\"#e6f5d0\"],[0.7,\"#b8e186\"],[0.8,\"#7fbc41\"],[0.9,\"#4d9221\"],[1,\"#276419\"]]},\"xaxis\":{\"gridcolor\":\"white\",\"linecolor\":\"white\",\"ticks\":\"\",\"title\":{\"standoff\":15},\"zerolinecolor\":\"white\",\"automargin\":true,\"zerolinewidth\":2},\"yaxis\":{\"gridcolor\":\"white\",\"linecolor\":\"white\",\"ticks\":\"\",\"title\":{\"standoff\":15},\"zerolinecolor\":\"white\",\"automargin\":true,\"zerolinewidth\":2},\"scene\":{\"xaxis\":{\"backgroundcolor\":\"#E5ECF6\",\"gridcolor\":\"white\",\"linecolor\":\"white\",\"showbackground\":true,\"ticks\":\"\",\"zerolinecolor\":\"white\",\"gridwidth\":2},\"yaxis\":{\"backgroundcolor\":\"#E5ECF6\",\"gridcolor\":\"white\",\"linecolor\":\"white\",\"showbackground\":true,\"ticks\":\"\",\"zerolinecolor\":\"white\",\"gridwidth\":2},\"zaxis\":{\"backgroundcolor\":\"#E5ECF6\",\"gridcolor\":\"white\",\"linecolor\":\"white\",\"showbackground\":true,\"ticks\":\"\",\"zerolinecolor\":\"white\",\"gridwidth\":2}},\"shapedefaults\":{\"line\":{\"color\":\"#2a3f5f\"}},\"annotationdefaults\":{\"arrowcolor\":\"#2a3f5f\",\"arrowhead\":0,\"arrowwidth\":1},\"geo\":{\"bgcolor\":\"white\",\"landcolor\":\"#E5ECF6\",\"subunitcolor\":\"white\",\"showland\":true,\"showlakes\":true,\"lakecolor\":\"white\"},\"title\":{\"x\":0.05},\"mapbox\":{\"style\":\"light\"}}},\"xaxis\":{\"anchor\":\"y\",\"domain\":[0.0,1.0],\"title\":{\"text\":\"Compression Time (ms)\"}},\"yaxis\":{\"anchor\":\"x\",\"domain\":[0.0,1.0],\"title\":{\"text\":\"Decompression Time (ms)\"}},\"legend\":{\"title\":{\"text\":\"Algorithm\"},\"tracegroupgap\":0,\"itemsizing\":\"constant\",\"font\":{\"size\":14}},\"title\":{\"text\":\"Compression and Decompression Time vs Compression Ratio\"},\"font\":{\"size\":16},\"hovermode\":\"closest\",\"autosize\":false,\"width\":1800,\"height\":950},                        {\"displayModeBar\": true, \"responsive\": true}                    ).then(function(){\n",
       "                            \n",
       "var gd = document.getElementById('08c6cfa0-7aea-4b7d-ab23-7e1cd415df38');\n",
       "var x = new MutationObserver(function (mutations, observer) {{\n",
       "        var display = window.getComputedStyle(gd).display;\n",
       "        if (!display || display === 'none') {{\n",
       "            console.log([gd, 'removed!']);\n",
       "            Plotly.purge(gd);\n",
       "            observer.disconnect();\n",
       "        }}\n",
       "}});\n",
       "\n",
       "// Listen for the removal of the full notebook cells\n",
       "var notebookContainer = gd.closest('#notebook-container');\n",
       "if (notebookContainer) {{\n",
       "    x.observe(notebookContainer, {childList: true});\n",
       "}}\n",
       "\n",
       "// Listen for the clearing of the current output cell\n",
       "var outputEl = gd.closest('.output');\n",
       "if (outputEl) {{\n",
       "    x.observe(outputEl, {childList: true});\n",
       "}}\n",
       "\n",
       "                        })                };                });            </script>        </div>"
      ]
     },
     "metadata": {},
     "output_type": "display_data"
    }
   ],
   "source": [
    "\n",
    "\n",
    "# 将数值列转换为浮点型\n",
    "df['CompressionTime(ms)'] = df['CompressionTime(ms)'].astype(float)\n",
    "df['DecompressionTime(ms)'] = df['DecompressionTime(ms)'].astype(float)\n",
    "df['CompressionRatio(%)'] = df['CompressionRatio(%)'].astype(float)\n",
    "\n",
    "# 创建一个新的列，将 Algorithm 和 Level 合并，作为标签\n",
    "df['Algorithm_Level'] = df['Algorithm'] + '-' + df['Level'].astype(str)\n",
    "df['BubbleLabel'] = (\n",
    "    df['Algorithm_Level'] + '<br>' + df['CompressionRatio(%)'].round(2).astype(str)\n",
    ")\n",
    "# 使用 Plotly 绘制交互式气泡图，添加文本标签\n",
    "fig = px.scatter(\n",
    "    df,\n",
    "    x='CompressionTime(ms)',\n",
    "    y='DecompressionTime(ms)',\n",
    "    size='CompressionRatio(%)',\n",
    "    color='Algorithm',\n",
    "    text='BubbleLabel',  # 在气泡上显示算法和级别\n",
    "    hover_name='Algorithm_Level',\n",
    "    hover_data={\n",
    "        'CompressionTime(ms)': ':.2f',\n",
    "        'DecompressionTime(ms)': ':.2f',\n",
    "        'CompressionRatio(%)': ':.2f',\n",
    "        'Level': True,\n",
    "        'Algorithm': False,  # 不重复显示 Algorithm，因为 hover_name 已经包含\n",
    "    },\n",
    "    size_max=60,\n",
    "    title='Compression and Decompression Time vs Compression Ratio',\n",
    "    labels={\n",
    "        'CompressionTime(ms)': 'Compression Time (ms)',\n",
    "        'DecompressionTime(ms)': 'Decompression Time (ms)',\n",
    "        'CompressionRatio(%)': 'Compression Ratio (%)',\n",
    "        'Algorithm_Level': 'Algorithm and Level',\n",
    "    }\n",
    ")\n",
    "\n",
    "# 更新布局和文本标签位置\n",
    "fig.update_traces(\n",
    "    textposition='top center',  # 调整标签位置\n",
    "    textfont_size=12,           # 调整标签字体大小\n",
    ")\n",
    "\n",
    "fig.update_layout(\n",
    "    xaxis_title='Compression Time (ms)',\n",
    "    yaxis_title='Decompression Time (ms)',\n",
    "    legend_title='Algorithm',\n",
    "    hovermode='closest',\n",
    "    autosize=False,\n",
    "    width=1800,  # 根据需要调整宽度\n",
    "    height=950,  # 根据需要调整高度\n",
    "    font=dict(\n",
    "        size=16,  # 设置全局字体大小\n",
    "    ),\n",
    "    legend=dict(\n",
    "        font=dict(\n",
    "            size=14  # 设置图例字体大小\n",
    "        )\n",
    "    ),\n",
    ")\n",
    "\n",
    "# 显示图表，启用全屏按钮\n",
    "fig.show(config={'displayModeBar': True})\n",
    "# fig.show()"
   ]
  },
  {
   "cell_type": "code",
   "execution_count": 7,
   "id": "5936a550-eab1-41d4-bb25-3bb7902bae90",
   "metadata": {},
   "outputs": [],
   "source": [
    "fig.write_html('benchmark_interactive.html')\n"
   ]
  },
  {
   "cell_type": "code",
   "execution_count": null,
   "id": "c073ca7d-cd7e-45cc-941a-bde7ed906bbd",
   "metadata": {},
   "outputs": [],
   "source": []
  }
 ],
 "metadata": {
  "kernelspec": {
   "display_name": "Python 3 (ipykernel)",
   "language": "python",
   "name": "python3"
  },
  "language_info": {
   "codemirror_mode": {
    "name": "ipython",
    "version": 3
   },
   "file_extension": ".py",
   "mimetype": "text/x-python",
   "name": "python",
   "nbconvert_exporter": "python",
   "pygments_lexer": "ipython3",
   "version": "3.12.4"
  }
 },
 "nbformat": 4,
 "nbformat_minor": 5
}
